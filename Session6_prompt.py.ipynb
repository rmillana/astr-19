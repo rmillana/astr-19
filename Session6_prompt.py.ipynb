{
 "cells": [
  {
   "cell_type": "code",
   "execution_count": 1,
   "id": "32212817-cab5-49d4-b306-46504828a75c",
   "metadata": {},
   "outputs": [],
   "source": [
    "# function that returns sin(x)\n",
    "def calculate_sin(x):\n",
    "    import numpy as np\n",
    "    return np.sin(x)"
   ]
  },
  {
   "cell_type": "code",
   "execution_count": 2,
   "id": "8d4d1b8a-cde3-4bf2-a2f3-df2adf144a68",
   "metadata": {},
   "outputs": [],
   "source": [
    "# function that returns cos(x)\n",
    "def calculate_cos(x): \n",
    "    import numpy as np\n",
    "    return np.sin(x)"
   ]
  },
  {
   "cell_type": "code",
   "execution_count": 3,
   "id": "4fa2ba33-e0fb-45b0-89a2-2d4bbbd6bfaf",
   "metadata": {},
   "outputs": [],
   "source": [
    "import numpy as np\n",
    "\n",
    "# creates 1000 points between 0 and 2\n",
    "x = np.linspace(0,2,1000)\n",
    "\n",
    "# Calculate sin(x) and cos(x) using the functions\n",
    "sin_x = [calculate_sin(val) for val in x]\n",
    "cos_x = [calculate_cos(val) for val in x]"
   ]
  },
  {
   "cell_type": "code",
   "execution_count": 4,
   "id": "a7ec3c16-9386-4872-a149-ac72fd5bfdc1",
   "metadata": {},
   "outputs": [
    {
     "name": "stdout",
     "output_type": "stream",
     "text": [
      "x          sin(x)     cos(x)    \n",
      "0.0000     0.0000     0.0000    \n",
      "0.0020     0.0020     0.0020    \n",
      "0.0040     0.0040     0.0040    \n",
      "0.0060     0.0060     0.0060    \n",
      "0.0080     0.0080     0.0080    \n",
      "0.0100     0.0100     0.0100    \n",
      "0.0120     0.0120     0.0120    \n",
      "0.0140     0.0140     0.0140    \n",
      "0.0160     0.0160     0.0160    \n",
      "0.0180     0.0180     0.0180    \n"
     ]
    }
   ],
   "source": [
    "# Print the first 10 values of x for sin(x) and cos(x)\n",
    "print(f\"{'x':<10} {'sin(x)':<10} {'cos(x)':<10}\")\n",
    "for i in range(10):\n",
    "    print(f\"{x[i]:<10.4f} {sin_x[i]:<10.4f} {cos_x[i]:<10.4f}\")"
   ]
  }
 ],
 "metadata": {
  "kernelspec": {
   "display_name": "Python 3 (ipykernel)",
   "language": "python",
   "name": "python3"
  },
  "language_info": {
   "codemirror_mode": {
    "name": "ipython",
    "version": 3
   },
   "file_extension": ".py",
   "mimetype": "text/x-python",
   "name": "python",
   "nbconvert_exporter": "python",
   "pygments_lexer": "ipython3",
   "version": "3.13.7"
  }
 },
 "nbformat": 4,
 "nbformat_minor": 5
}
